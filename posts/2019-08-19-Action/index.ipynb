{
 "cells": [
  {
   "cell_type": "code",
   "execution_count": null,
   "metadata": {},
   "outputs": [],
   "source": []
  },
  {
   "cell_type": "markdown",
   "metadata": {},
   "source": [
    "---\n",
    "title: \"Introspection\"\n",
    "date: 2019-08-19\n",
    "categories: [Self-empowerment]\n",
    "---\n",
    "\n",
    "## Action\n",
    "\n",
    "Only tools we are in complete charge are our body, mind. All life happens through them. It pays to think in terms of this simple model. Much of the unnecessary suffering arises from getting entangled with other people's minds. We have no access to the consciousness of other humans. So we cannot control their likes, dislikes, affection towards you. But, we seem to be in constant conflict with this reality. Our relation to the world occurs in pairs of action and expectation. But, can there be action without a desire or exception?\n",
    "\n",
    "## Mental States\n",
    "\n",
    "The joy of achievement, the pain of losing a loved one are fundamentally different mental states, invoked under certain conditions. The desired mental states we all seek are similar. In life, we try to line it up with certain mental states while avoiding others. This is the origin of all our desires. So it seems pertinent to find out the controller of these states? From where do they arise ? Does pre-conditions matter to get into a certain state ?\n",
    "\n",
    "## Move\n",
    "\n",
    "Life is motion. Stagnation is death. Take action. That’s the only way to interact and influence. Time is ticking away. There is nothing to be preserved. So move into every moment - without baggage and drama.\n",
    "\n",
    "## Now\n",
    "\n",
    "It’s a strange realization. There is only now. All our dreams, if realized will have to dawn on some now. There is no escape from now. All the sensations that we derive from indulging in work, thoughts will be experienced now. So the scope of our life depends on our capacity to experience now. It’s a strange realization\n",
    "\n",
    "Life is happening now. Whether I plan for future, muse on my past or feel the burning pain of my wound , It all happens right now and that’s all I got. A moment arises within the cessation of the previous one. There is no way to latch. In thinking about the future – all my sensations whether the excitement or the dread happens in the present. So it follows whether can I keep myself joyful right now – without the necessity of a person, thing, belief or ideology. That would be cool.\n",
    "\n",
    "## Inefficiency\n",
    "\n",
    "Life is mostly inefficient. We end up doing things that in retrospect offer no value. We regret. Yet, this trial and error process is the only way to discover. All our expectations, thoughts, longings are based on our present level of awareness. We cannot act like our future selves.Realizing this is self-empowering.\n",
    "\n",
    "## Love\n",
    "\n",
    "A heart brimming with love and a radiant body are necessary to experience life to its fullest. Love doesn’t require anything outside one’s agency. It doesn’t demand people to be less mean nor does it require us to constantly seek justification in their actions. It doesn’t arise from any expectation of oneself or others. Whoever is around you, the habit of having good intentions for their life creates immediate well-being. Giving your best to a task, such as playing football for your team, might involve strategizing against your opponent. However, it doesn’t require you to change your intentions. It only becomes a zero-sum game when you place your source of joy outside yourself—like in winning a game or getting a promotion. Then, inevitably, subtle forms of hate arise, helping us navigate dissatisfaction. But this leaves us incapable of experiencing true joy.\n",
    "\n",
    "## Belief\n",
    "\n",
    "Belief is easy. It demands no cognitive load, and decisions are made almost unconsciously. Doubt, on the other hand, requires deliberation. Belief is common; it brings people together and offers safety. Groups welcome or ostracize individuals based on shared beliefs, and evolution further selects these individuals. The desire to be identified with a group is a natural, ever-present force, raising our odds of survival in the wild. However, our well-being depends on maintaining a fine balance between Doubt and Belief.\n",
    "\n",
    "## Dissatisfaction\n",
    "\n",
    "Dissatisfaction. This is the most subtle and malignant force within us. The majority of life’s efforts are to escape this feeling. Our desires come out of deep dissatisfaction with the present and hope to escape from it in the future. But this is a ceaseless process, always keeps us tethered to the future. It’s funny that life always happens now.\n",
    "\n"
   ]
  },
  {
   "cell_type": "markdown",
   "metadata": {},
   "source": []
  }
 ],
 "metadata": {
  "language_info": {
   "name": "python"
  }
 },
 "nbformat": 4,
 "nbformat_minor": 2
}
