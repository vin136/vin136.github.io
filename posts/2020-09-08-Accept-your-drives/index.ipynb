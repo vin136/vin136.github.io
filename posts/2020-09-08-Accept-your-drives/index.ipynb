{
 "cells": [
  {
   "cell_type": "markdown",
   "metadata": {},
   "source": [
    "---\n",
    "title: \"Accept all your drives\"\n",
    "date: 2020-09-08\n",
    "categories: [Self-empowerment]\n",
    "---\n",
    "\n",
    "Acknowledge and accept all human drives. The tension between ‘culturally accepted’ and ‘evolutionarily primed’ behaviors creates unnecessary fatigue and misery. Evolutionary forces generate strong drives that we suppress or accept based on the cultural imagination. Breaching those norms leaves us feeling ashamed and guilty. We adjust our thoughts and behaviors to fit into the culture, often in very subtle ways. Mentally note or record in a journal the instances when you felt the slightest tinge of guilt or indulged in behaviors that you are not happy with. Now, accept that this, by definition, is part of human nature. Sometimes mere social baggage creates unnecessary friction against evolutionary drives. Perhaps the advantage of sticking to cultural norms is not worth it. Noticing vast differences in cultural norms across the globe can provide a different perspective. Guilt is a bad feeling and cannot be endured for long, so our brains invent reasons to escape it.\n",
    "\n",
    "All behaviors that are against our well-being are sustained either by this escape mechanism or through our complete unawareness of their effects. Only an inquisitive and open mind has the luxury of discovering behaviors in the second category. The creation of the ego is an apt example. Raising our awareness is the only way to open the possibility of improving our well-being.\n",
    "\n",
    "Heightened experience of life doesn’t come from grabbing better beliefs and ideologies. Beliefs offer certainty. Our brains are ill-equipped to deal with probabilities. So, a well-formed belief or opinion might serve as a good heuristic. But, Beliefs concerning oneself create an identity.It only creates angst and unnecessary dissatisfaction. It also has the side-effect of pushing life in the background. It feeds on the stability of its beliefs. It works only in the realm of thoughts – It strives to engross and fit everything in its tiny bubble. Any amount of brooding or theorization over this only can burst one to creates newer and more subtle ones. Non-judgemental awareness of this process loosens the hold. At this heightened level of perception, life happens on a different dimension."
   ]
  },
  {
   "cell_type": "markdown",
   "metadata": {},
   "source": []
  }
 ],
 "metadata": {
  "language_info": {
   "name": "python"
  }
 },
 "nbformat": 4,
 "nbformat_minor": 2
}
